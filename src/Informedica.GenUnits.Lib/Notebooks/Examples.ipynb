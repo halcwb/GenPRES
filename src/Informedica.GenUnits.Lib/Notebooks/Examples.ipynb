{
 "cells": [
  {
   "cell_type": "markdown",
   "metadata": {},
   "source": [
    "# Demonstration of some of the concepts underlying `Informedica.GenUnits.Lib` #"
   ]
  },
  {
   "cell_type": "markdown",
   "metadata": {},
   "source": [
    "## Setup"
   ]
  },
  {
   "cell_type": "markdown",
   "metadata": {},
   "source": [
    "Do some basic setup:"
   ]
  },
  {
   "cell_type": "code",
   "execution_count": null,
   "metadata": {
    "dotnet_interactive": {
     "language": "fsharp"
    },
    "polyglot_notebook": {
     "kernelName": "fsharp"
    }
   },
   "outputs": [],
   "source": [
    "#load \"../Scripts/load.fsx\"\n",
    "\n",
    "open MathNet.Numerics\n",
    "open Informedica.Utils.Lib.BCL\n",
    "open Informedica.GenUnits.Lib\n",
    "open Informedica.GenUnits.Lib.ValueUnit"
   ]
  },
  {
   "cell_type": "markdown",
   "metadata": {},
   "source": [
    "Make some print functions to help with demos:"
   ]
  },
  {
   "cell_type": "code",
   "execution_count": null,
   "metadata": {
    "dotnet_interactive": {
     "language": "fsharp"
    },
    "polyglot_notebook": {
     "kernelName": "fsharp"
    }
   },
   "outputs": [],
   "source": [
    "[<AutoOpen>]\n",
    "module Print = \n",
    "\n",
    "    /// Print the input to a function, then call the function with that input.\n",
    "    let (>>*) vu f =\n",
    "        $\"{vu |> toStringDecimalEngShort}\" |> printfn \"%s\"\n",
    "        f vu\n",
    "\n",
    "    /// Print the input to a function, then call the function with that input,\n",
    "    /// ignoring the result.\n",
    "    let print vu = (>>*) vu ignore\n",
    "\n",
    "    /// A convenience alias for printfn \"%A\".\n",
    "    let inline pa x = printfn \"%A\" x "
   ]
  },
  {
   "cell_type": "markdown",
   "metadata": {},
   "source": [
    "## Units and CombiUnits"
   ]
  },
  {
   "cell_type": "markdown",
   "metadata": {},
   "source": [
    "A ``Unit`` defines how a ``Value`` is measured. For example, 100 mg. So, there is the value ``100`` and the unit ``mg``. \n",
    "\n",
    "But also\n",
    "\n",
    "- Units can be combined, ``CombiUnit``, for example 100 mg/ml\n",
    "- Units can also have a value to express for example 1 x / 36 hour. \n",
    "\n",
    "In the last example the value is ``1`` and the unit is ``x / 36 hour``, which is in fact a ``CombiUnit`` of ``x`` and ``36 hour``."
   ]
  },
  {
   "cell_type": "markdown",
   "metadata": {},
   "source": [
    "Some basic units, that can be combined to `CombiUnit`"
   ]
  },
  {
   "cell_type": "code",
   "execution_count": null,
   "metadata": {
    "dotnet_interactive": {
     "language": "fsharp"
    },
    "polyglot_notebook": {
     "kernelName": "fsharp"
    }
   },
   "outputs": [],
   "source": [
    "// basic units\n",
    "let mg = Units.Mass.milliGram\n",
    "let ml = Units.Volume.milliLiter\n",
    "let hr = Units.Time.hour\n",
    "let d2 = Units.Time.nDay 2N\n",
    "\n",
    "$\"Combining simple units:\\n{(mg |> per ml |> per hr)}\"\n",
    "|> printfn \"%s\"\n",
    "\n",
    "$\"Units can be a unit with a value!:\\n{d2}\"\n",
    "|> printfn \"%s\"\n",
    "\n",
    "$\"That enables things like:\\n{mg |> per d2}\"\n",
    "|> printfn \"%s\"\n",
    "\n",
    "$\"Or like:\\n{Units.Count.times |> per (Units.Time.nHour 36N)}\"\n",
    "|> printfn \"%s\""
   ]
  },
  {
   "cell_type": "markdown",
   "metadata": {},
   "source": [
    "## ValueUnits"
   ]
  },
  {
   "cell_type": "markdown",
   "metadata": {},
   "source": [
    "We can build `ValueUnit` instances from numeric values and units:"
   ]
  },
  {
   "cell_type": "code",
   "execution_count": null,
   "metadata": {
    "dotnet_interactive": {
     "language": "fsharp"
    },
    "polyglot_notebook": {
     "kernelName": "fsharp"
    }
   },
   "outputs": [],
   "source": [
    "let withUnit u v = [| v |> BigRational.fromDecimal |] |> withUnit u\n",
    "\n",
    "// Some basic value units\n",
    "let mg400  = 400m  |> withUnit Units.Mass.milliGram    >>* id\n",
    "let ml50   = 50m   |> withUnit Units.Volume.milliLiter >>* id\n",
    "let ml5    = 5m    |> withUnit Units.Volume.milliLiter >>* id\n",
    "let l5     = 5m    |> withUnit Units.Volume.liter      >>* id\n",
    "let ml5000 = 5000m |> withUnit Units.Volume.milliLiter >>* id\n",
    "\n",
    "mg400 |> pa\n",
    "4m |> withUnit d2 |> pa"
   ]
  },
  {
   "cell_type": "markdown",
   "metadata": {},
   "source": [
    "## The Count Unit Group"
   ]
  },
  {
   "cell_type": "markdown",
   "metadata": {},
   "source": [
    "The `Count` group is a special unit group with only one unit: `times`:"
   ]
  },
  {
   "cell_type": "code",
   "execution_count": null,
   "metadata": {
    "dotnet_interactive": {
     "language": "fsharp"
    },
    "polyglot_notebook": {
     "kernelName": "fsharp"
    }
   },
   "outputs": [],
   "source": [
    "let times3 = 3m |> withUnit Units.Count.times >>* id"
   ]
  },
  {
   "cell_type": "code",
   "execution_count": null,
   "metadata": {
    "dotnet_interactive": {
     "language": "fsharp"
    },
    "polyglot_notebook": {
     "kernelName": "fsharp"
    }
   },
   "outputs": [],
   "source": [
    "// 3 times * 5 ml = 15 ml\n",
    "times3 * ml5 |> print"
   ]
  },
  {
   "cell_type": "markdown",
   "metadata": {},
   "source": [
    "## Extracting unit to base and unit to unit value"
   ]
  },
  {
   "cell_type": "markdown",
   "metadata": {},
   "source": [
    "Given a `ValueUnit`, we can extract its base value:"
   ]
  },
  {
   "cell_type": "code",
   "execution_count": null,
   "metadata": {
    "dotnet_interactive": {
     "language": "fsharp"
    },
    "polyglot_notebook": {
     "kernelName": "fsharp"
    }
   },
   "outputs": [],
   "source": [
    "ml5 |> toBase |> pa // 1/200N i.e. 5 ml = 1/200 = 0.005 l\n",
    "l5  |> toBase |> pa // 5N i.e. 5 l = 5 l"
   ]
  },
  {
   "cell_type": "markdown",
   "metadata": {},
   "source": [
    "Given a `ValueUnit`, we can also extract its values as a \"unit\" value or \"base\" value:"
   ]
  },
  {
   "cell_type": "code",
   "execution_count": null,
   "metadata": {
    "dotnet_interactive": {
     "language": "fsharp"
    },
    "polyglot_notebook": {
     "kernelName": "fsharp"
    }
   },
   "outputs": [],
   "source": [
    "ml5 |> toUnit |> pa // 500N i.e. 5 l = 5000 ml\n",
    "l5  |> toUnit |> pa // 5 i.e. 5 l = 5 l\n",
    "\n",
    "ml5 |> toBase |> pa // base value = 5 / 1000 = 1 / 200\n",
    "l5  |> toBase |> pa // base value = 5 as liter is the reference unit"
   ]
  },
  {
   "cell_type": "markdown",
   "metadata": {},
   "source": [
    "## ValueUnit comparison"
   ]
  },
  {
   "cell_type": "markdown",
   "metadata": {},
   "source": [
    "We need special comparison operators to correctly compare `ValueUnit` instances:"
   ]
  },
  {
   "cell_type": "code",
   "execution_count": null,
   "metadata": {
    "dotnet_interactive": {
     "language": "fsharp"
    },
    "polyglot_notebook": {
     "kernelName": "fsharp"
    }
   },
   "outputs": [],
   "source": [
    "// Normal comparison operators don't work\n",
    "ml50 > l5 |> pa // Returns true, but is false\n",
    "\n",
    "// Use the specific comparison operators\n",
    "ml50   >?  l5  |> pa // Returns false\n",
    "ml50   >=? l5  |> pa // Returns false\n",
    "ml50   <?  l5  |> pa // Returns true\n",
    "ml50   <=? l5  |> pa // Returns true\n",
    "ml5    =?  l5  |> pa // Returns false\n",
    "ml5000 =?  l5  |> pa // Returns true"
   ]
  },
  {
   "cell_type": "markdown",
   "metadata": {},
   "source": [
    "## Calculation with `ValueUnit` instances ##\n",
    "\n",
    "All four basic arithmetic operations can be performed:"
   ]
  },
  {
   "cell_type": "code",
   "execution_count": null,
   "metadata": {
    "dotnet_interactive": {
     "language": "fsharp"
    },
    "polyglot_notebook": {
     "kernelName": "fsharp"
    }
   },
   "outputs": [],
   "source": [
    "let withValue v u = withValue [| v |] u\n",
    "\n",
    "\"Calculating with counts:\\n\" |> printfn \"%s\"\n",
    "// - multiplication\n",
    "times3 * times3 >>* ignore // = 9 times\n",
    "// - division\n",
    "times3 / times3 >>* ignore // = 1 times\n",
    "// - addition\n",
    "times3 + times3 >>* ignore // = 6 times\n",
    "// - subtraction \n",
    "times3 - times3 >>* ignore // = 0 times\n",
    "\n",
    "\"You calculate any unit with times\\n\" |> printfn \"%s\"\n",
    "times3 * ml5 >>* ignore // 3 * 5 ml = 15 ml\n",
    "(Units.Time.hour |> withValue 36N) / times3 >>* ignore // 36 hr / 3 = 12 hr\n",
    "\n",
    "\"But calculating with other units yield combi units\"\n",
    "(Units.Mass.milliGram |> withValue 200N) / ml5 >>* ignore // 200 mg / 5 ml = 40 mg / ml"
   ]
  },
  {
   "cell_type": "markdown",
   "metadata": {},
   "source": [
    "Addition and subtraction can only be performed within the same unitgroup:"
   ]
  },
  {
   "cell_type": "code",
   "execution_count": null,
   "metadata": {
    "dotnet_interactive": {
     "language": "fsharp"
    },
    "polyglot_notebook": {
     "kernelName": "fsharp"
    }
   },
   "outputs": [],
   "source": [
    "ml50 + l5    >>* ignore // = 5.05 l\n",
    "\n",
    "try\n",
    "    mg400 + ml50 >>* ignore // System.Exception: cannot add or subtract different units Mass (MilliGram 1N) Volume (MilliLiter 1N)\n",
    "with \n",
    "| exn ->\n",
    "    printfn \"should fail\""
   ]
  },
  {
   "cell_type": "markdown",
   "metadata": {},
   "source": [
    "When two `ValueUnit` instances with the same unitgroup are divided you get a `CountGroup`:"
   ]
  },
  {
   "cell_type": "code",
   "execution_count": null,
   "metadata": {
    "dotnet_interactive": {
     "language": "fsharp"
    },
    "polyglot_notebook": {
     "kernelName": "fsharp"
    }
   },
   "outputs": [],
   "source": [
    "let (_, u) = (l5 / ml50) >>* get  // = 100N times\n",
    "u |> Group.unitToGroup           // now is a count group"
   ]
  },
  {
   "cell_type": "markdown",
   "metadata": {},
   "source": [
    "We can do more complicated calculations, such as starting with a concentration, multiplying and dividing by a volume, and ending up with a mass:"
   ]
  },
  {
   "cell_type": "code",
   "execution_count": null,
   "metadata": {
    "dotnet_interactive": {
     "language": "fsharp"
    },
    "polyglot_notebook": {
     "kernelName": "fsharp"
    }
   },
   "outputs": [],
   "source": [
    "((mg400 + mg400)/ ml50)     // (400 mg[Mass] + 400 mg[Mass]) / 50 ml[Volume] = 16 mg[Mass]/ml[Volume]\n",
    ">>* ((*) ml50)              // 16 mg[Mass]/ml[Volume] * 50 ml[Volume] = 800 mg[Mass] \n",
    ">>* (fun vu -> vu / ml50)   // 800 mg[Mass] / 50 ml[Volume] = 16 mg[Mass]/ml[Volume]\n",
    ">>* ((*) ml50)              // 16 mg[Mass]/ml[Volume] * 50 ml[Volume] = 800 mg[Mass]\n",
    ">>* ignore"
   ]
  },
  {
   "cell_type": "markdown",
   "metadata": {},
   "source": [
    "## Conversions ##\n",
    "\n",
    "`ValueUnit` instances can be converted to different units within the same unit group using the `==>` operator:"
   ]
  },
  {
   "cell_type": "code",
   "execution_count": null,
   "metadata": {
    "dotnet_interactive": {
     "language": "fsharp"
    },
    "polyglot_notebook": {
     "kernelName": "fsharp"
    },
    "vscode": {
     "languageId": "csharp"
    }
   },
   "outputs": [],
   "source": [
    "l5                            // 5 l[Volume]\n",
    "==> Units.Volume.milliLiter   // = 5000 ml[Volume]\n",
    ">>* ignore"
   ]
  },
  {
   "cell_type": "markdown",
   "metadata": {},
   "source": [
    "We can create arbitrary, labelled units and use them in calculations:"
   ]
  },
  {
   "cell_type": "code",
   "execution_count": null,
   "metadata": {
    "dotnet_interactive": {
     "language": "fsharp"
    },
    "polyglot_notebook": {
     "kernelName": "fsharp"
    }
   },
   "outputs": [],
   "source": [
    "let create u v = create u [| v |> BigRational.fromDecimal |]\n",
    "\n",
    "let dose = Units.General.general \"dose\"\n",
    "\n",
    "// Calculate and get the resulting unit group\n",
    "4m\n",
    "|> create dose // 4 dose[General]\n",
    ">>* (fun vu -> vu / (1m |> create Units.Time.day)) // divide by 1 day[Time]\n",
    ">>* (fun vu -> vu ==> (dose |> per (Units.Time.week)))\n",
    "|> (fun (ValueUnit(_, u)) ->\n",
    "    u |> Group.unitToGroup)\n",
    "// GeneralGroup \"dose\", OpPer, TimeGroup -> i.e. Dose/Time"
   ]
  },
  {
   "cell_type": "markdown",
   "metadata": {},
   "source": [
    "We can get all valid units for conversion:"
   ]
  },
  {
   "cell_type": "code",
   "execution_count": null,
   "metadata": {
    "dotnet_interactive": {
     "language": "fsharp"
    },
    "polyglot_notebook": {
     "kernelName": "fsharp"
    }
   },
   "outputs": [],
   "source": [
    "let d2 = 2m |> withUnit Units.Time.day\n",
    "let g4 = 0.4m |> withUnit Units.Mass.gram\n",
    "let mg400 = 400m |> withUnit Units.Mass.milliGram\n",
    "\n",
    "printfn \"First example\"\n",
    "// failing case, simplify doesn't work in this case\n",
    "calc false (/) (calc false (*) times3 mg400) g4\n",
    "|> fun x -> \n",
    "    printfn \"result without simplify:\"\n",
    "    x |> pa; x\n",
    "|> simplify\n",
    "|> fun x ->\n",
    "    printfn \"result with simplify:\"\n",
    "    x |> pa\n",
    "\n",
    "printfn \"Failing example\"\n",
    "// failing case, simplify doesn't work in this case\n",
    "calc false (/) (calc false (/) mg400 ml50) d2\n",
    "|> fun x -> \n",
    "    printfn \"result without simplify:\"\n",
    "    x |> pa; x\n",
    "|> simplify\n",
    "|> fun x ->\n",
    "    printfn \"result with simplify:\"\n",
    "    x |> pa\n",
    "\n",
    "// mg/kg/dag = mg * dag / kg \n",
    "// a / c/ d\n",
    "\n",
    "// 60 mg/kg/2 dagen * 10 kg = 600 mg/2 dagen = 300 mg/dag\n",
    "// 60 mg/(kg / 2 dagen) * 10 kg = 600 mg / 2 dagen = 300 mg/dag"
   ]
  }
 ],
 "metadata": {
  "kernelInfo": {
   "defaultKernelName": null,
   "items": [
    {
     "aliases": [
      "c#",
      "cs"
     ],
     "languageName": "C#",
     "name": "csharp"
    },
    {
     "aliases": [
      "f#",
      "fs"
     ],
     "languageName": "F#",
     "name": "fsharp"
    },
    {
     "languageName": "HTML",
     "name": "html"
    },
    {
     "languageName": "HTTP",
     "name": "http"
    },
    {
     "aliases": [
      "js"
     ],
     "languageName": "JavaScript",
     "name": "javascript"
    },
    {
     "languageName": "Mermaid",
     "name": "mermaid"
    },
    {
     "aliases": [
      "powershell"
     ],
     "languageName": "PowerShell",
     "name": "pwsh"
    },
    {
     "name": "value"
    }
   ]
  },
  "kernelspec": {
   "display_name": ".NET (C#)",
   "language": "C#",
   "name": ".net-csharp"
  },
  "language_info": {
   "name": "polyglot-notebook"
  },
  "polyglot_notebook": {
   "kernelInfo": {
    "defaultKernelName": "csharp",
    "items": [
     {
      "aliases": [
       "C#",
       "c#"
      ],
      "languageName": "C#",
      "name": "csharp"
     },
     {
      "aliases": [
       "f#",
       "fs"
      ],
      "languageName": "F#",
      "name": "fsharp"
     },
     {
      "aliases": [],
      "languageName": "HTML",
      "name": "html"
     },
     {
      "aliases": [],
      "languageName": "HTTP",
      "name": "http"
     },
     {
      "aliases": [
       "js"
      ],
      "languageName": "JavaScript",
      "name": "javascript"
     },
     {
      "aliases": [],
      "languageName": "Mermaid",
      "name": "mermaid"
     },
     {
      "aliases": [
       "powershell"
      ],
      "languageName": "PowerShell",
      "name": "pwsh"
     },
     {
      "aliases": [],
      "name": "value"
     },
     {
      "aliases": [
       "frontend"
      ],
      "name": "vscode"
     }
    ]
   }
  }
 },
 "nbformat": 4,
 "nbformat_minor": 5
}

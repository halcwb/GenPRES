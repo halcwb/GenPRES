{
 "cells": [
  {
   "cell_type": "markdown",
   "metadata": {},
   "source": [
    "# Examples for the ``Informedica.GenSolver.Lib`` library"
   ]
  },
  {
   "cell_type": "markdown",
   "metadata": {},
   "source": [
    "First load all required references and source files."
   ]
  },
  {
   "cell_type": "code",
   "execution_count": 1,
   "metadata": {
    "dotnet_interactive": {
     "language": "fsharp"
    },
    "polyglot_notebook": {
     "kernelName": "fsharp"
    }
   },
   "outputs": [],
   "source": [
    "#load \"../Scripts/loadDLL.fsx\""
   ]
  },
  {
   "cell_type": "markdown",
   "metadata": {},
   "source": [
    "Do some preprocessing."
   ]
  },
  {
   "cell_type": "code",
   "execution_count": 2,
   "metadata": {
    "dotnet_interactive": {
     "language": "fsharp"
    },
    "polyglot_notebook": {
     "kernelName": "fsharp"
    }
   },
   "outputs": [],
   "source": [
    "open System\n",
    "open System.IO\n",
    "\n",
    "open Informedica.GenUnits.Lib\n",
    "open Informedica.GenSolver.Lib\n",
    "open Informedica.Utils.Lib.BCL\n",
    "open MathNet.Numerics\n",
    "open Types\n",
    "\n",
    "module Api = Informedica.GenSolver.Lib.Api\n",
    "module Solver = Informedica.GenSolver.Lib.Solver\n",
    "module Name = Variable.Name\n",
    "module ValueRange = Variable.ValueRange\n",
    "module Minimum = ValueRange.Minimum\n",
    "module Maximum = ValueRange.Maximum\n",
    "module Increment = ValueRange.Increment\n",
    "module ValueSet = ValueRange.ValueSet\n",
    "module Units = Informedica.GenUnits.Lib.Units\n",
    "\n",
    "\n",
    "let (|>>) r f = \n",
    "    match r with\n",
    "    | Ok x -> x |> f\n",
    "    | Error _ -> r\n",
    "\n",
    "\n",
    "let procss s = printfn $\"%s{s} \"\n",
    "\n",
    "\n",
    "let printEqs = function\n",
    "    | Ok eqs -> eqs |> Solver.printEqs true procss\n",
    "    | Error errs -> failwith \"errors\"\n",
    "\n",
    "\n",
    "let printEqsWithUnits = function\n",
    "    | Ok eqs -> eqs |> Solver.printEqs false procss\n",
    "    | Error errs -> failwith \"errors\"\n",
    "\n",
    "\n",
    "let setProp n p eqs =\n",
    "    let n = n |> Name.createExc\n",
    "    match eqs |> Api.setVariableValues n p with\n",
    "    | Some var ->\n",
    "        eqs\n",
    "        |> List.map (fun e ->\n",
    "            e |> Equation.replace var\n",
    "        )\n",
    "    | None -> eqs\n",
    "\n",
    "let create c u v = \n",
    "    [|v|] \n",
    "    |> ValueUnit.create u\n",
    "    |> c\n",
    "\n",
    "let createMinIncl = create (Minimum.create true)\n",
    "let createMinExcl = create (Minimum.create false)\n",
    "let createMaxIncl = create (Maximum.create true)\n",
    "let createMaxExcl = create (Maximum.create false)\n",
    "let createIncr = create Increment.create\n",
    "let createValSet u v = \n",
    "    v \n",
    "    |> Array.ofSeq\n",
    "    |> ValueUnit.create u\n",
    "    |> ValueSet.create\n",
    "\n",
    "let setMinIncl u n min = min |> createMinIncl u |> MinProp|> setProp n\n",
    "let setMinExcl u n min = min |> createMinExcl u |> MinProp |> setProp n\n",
    "let setMaxIncl u n max = max |> createMaxIncl u |> MaxProp |> setProp n\n",
    "let setMaxExcl u n max = max |> createMaxExcl u |> MaxProp |> setProp n\n",
    "let setValues u n vals = vals |> createValSet u |> ValsProp |> setProp n\n",
    "\n",
    "let logger = SolverLogging.noOp\n",
    "\n",
    "let solve n p eqs =\n",
    "    let n = n |> Name.createExc\n",
    "    let s = fun _ eqs -> eqs \n",
    "    Api.solve true s logger n p eqs\n",
    "\n",
    "let solveAll = Api.solveAll false logger\n",
    "\n",
    "let solveMinIncl u n min = solve n (min |> createMinIncl u |> MinProp)\n",
    "let solveMinExcl u n min = solve n (min |> createMinExcl u  |> MinProp)\n",
    "let solveMaxIncl u n max = solve n (max |> createMaxIncl u |> MaxProp)\n",
    "let solveMaxExcl u n max = solve n (max |> createMaxExcl u |> MaxProp)\n",
    "let solveIncr u n incr = solve n (incr |> createIncr u |> IncrProp)\n",
    "let solveValues u n vals = solve n (vals |> createValSet u |> ValsProp)\n",
    "\n",
    "let init     = Api.init\n",
    "let nonZeroNegative = Api.nonZeroNegative\n",
    "\n",
    "\n",
    "let solveCountMinIncl = solveMinIncl Units.Count.times\n",
    "let solveCountMinExcl = solveMinExcl Units.Count.times\n",
    "let solveCountMaxExcl = solveMaxExcl Units.Count.times\n",
    "let solveCountValues u n vals = solveValues Units.Count.times u n vals"
   ]
  },
  {
   "cell_type": "markdown",
   "metadata": {},
   "source": [
    "## Variables, equations and notation"
   ]
  },
  {
   "cell_type": "markdown",
   "metadata": {},
   "source": [
    "The solver will \"solve\" an ``Equation`` or a set of equations. An equation can be either a product equation or a sum equation of ``Variables``. A ``Variable`` is identified with a name and can be constraint by:\n",
    "\n",
    "- No constraint, i.e. the variable can be any rational number\n",
    "- A lower and/or upper limit, i.e. the variable can be any rational number within the limits of a lower and/or upper limit. \n",
    "- A limit can be inclusive or exclusive corresponding with ``>=, >, <, <=``.\n",
    "- A set of numbers, i.e. the variable can only be one of the set.\n",
    "\n",
    "When a variable is constraint to just one rational number, that variable is considered solved. When a variable is not solved the variable can have an further limitation until the variable is solved.\n",
    "\n",
    "A variable (with name a) is printed out as:\n",
    "\n",
    "- ``a <..>``\n",
    "- ``a <0..>``\n",
    "- ``a [0..>``\n",
    "- ``a [1, 2, 3]``\n",
    "\n",
    "When a variable is limited by, for example ``[0..5>``, then you can\n",
    "\n",
    "- increase the lower limit to at most, but excluding 5, \n",
    "- lower the upper limit to and including 0,\n",
    "- set a value(-s) between >= 0 and < 5.\n",
    "\n",
    "Meaning you can only \"shrink\" a variable, not expand a variable."
   ]
  },
  {
   "cell_type": "markdown",
   "metadata": {},
   "source": [
    "### The simple \"equals\" equation."
   ]
  },
  {
   "cell_type": "code",
   "execution_count": 3,
   "metadata": {
    "dotnet_interactive": {
     "language": "fsharp"
    },
    "polyglot_notebook": {
     "kernelName": "fsharp"
    }
   },
   "outputs": [
    {
     "name": "stdout",
     "output_type": "stream",
     "text": [
      "equations result:\n",
      " \n",
      "0.\ta <..> = b <..> \n",
      "----- \n"
     ]
    }
   ],
   "source": [
    "let simpleEq = [ \"a = b\" ] |> init\n",
    "simpleEq |> Ok |> printEqs |> ignore"
   ]
  },
  {
   "cell_type": "markdown",
   "metadata": {},
   "source": [
    "We can limit the variables to a lower and upper limit."
   ]
  },
  {
   "cell_type": "code",
   "execution_count": 4,
   "metadata": {
    "dotnet_interactive": {
     "language": "fsharp"
    },
    "polyglot_notebook": {
     "kernelName": "fsharp"
    }
   },
   "outputs": [
    {
     "name": "stdout",
     "output_type": "stream",
     "text": [
      "equations result:\n",
      " \n",
      "0.\ta <..> = b <..> \n",
      "----- \n",
      "equations result:\n",
      " \n",
      "0.\ta <0 x..> = b <0 x..> \n",
      "----- \n",
      "equations result:\n",
      " \n",
      "0.\ta <0 x..5 x> = b <0 x..5 x> \n",
      "----- \n"
     ]
    }
   ],
   "source": [
    "simpleEq |> Ok |> printEqs\n",
    "\n",
    "simpleEq\n",
    "|> solveCountMinExcl \"b\" 0N\n",
    "|> printEqs\n",
    "|> solveCountMaxExcl \"b\" 5N\n",
    "|> printEqs |> ignore"
   ]
  },
  {
   "cell_type": "markdown",
   "metadata": {},
   "source": [
    "We can now try to change variable ``a``."
   ]
  },
  {
   "cell_type": "code",
   "execution_count": 5,
   "metadata": {
    "dotnet_interactive": {
     "language": "fsharp"
    },
    "polyglot_notebook": {
     "kernelName": "fsharp"
    }
   },
   "outputs": [
    {
     "name": "stdout",
     "output_type": "stream",
     "text": [
      "=== Try setting 10 to variable a will throw an exception ===\n",
      "SolverException\n",
      "  [VariableCannotSetValueRange\n",
      "     ({ Name = Name \"a\"\n",
      "        Values =\n",
      "         MinMax\n",
      "           (MinExcl (ValueUnit ([|0N|], Count (Times 1N))),\n",
      "            MaxExcl (ValueUnit ([|5N|], Count (Times 1N)))) },\n",
      "      ValSet (ValueSet (ValueUnit ([|10N|], Count (Times 1N)))));\n",
      "   ValueRangeEmptyValueSet\n",
      "     \"filter with min = '<0 x', incr = '', max = '5 x>' and vs = '10 x[Count]' gives empty set\"]\n",
      "=== But setting 4 to variable a will succeed ===\n",
      "equations result:\n",
      " \n",
      "0.\ta [4 x] = b [4 x] \n",
      "----- \n",
      "=== Try setting a max 10 to variable a will be ignored ===\n",
      "equations result:\n",
      " \n",
      "0.\ta <0 x..5 x> = b <0 x..5 x> \n",
      "----- \n",
      "=== But setting a max 3 to variable a will succeed ===\n",
      "equations result:\n",
      " \n",
      "0.\ta <0 x..3 x> = b <0 x..3 x> \n",
      "----- \n"
     ]
    }
   ],
   "source": [
    "printfn \"=== Try setting 10 to variable a will throw an exception ===\"\n",
    "try\n",
    "    simpleEq\n",
    "    |> solveCountMinExcl \"b\" 0N\n",
    "    |>> solveCountMaxExcl \"b\" 5N\n",
    "    |>> solveCountValues \"a\" [|10N|]\n",
    "    |> printEqs |> ignore\n",
    "with\n",
    "| e -> printfn \"%A\" e\n",
    "\n",
    "printfn \"=== But setting 4 to variable a will succeed ===\"\n",
    "simpleEq\n",
    "|> solveCountMinExcl \"b\" 0N\n",
    "|>> solveCountMaxExcl \"b\" 5N\n",
    "|>> solveCountValues \"a\" [|4N|]\n",
    "|> printEqs |> ignore\n",
    "\n",
    "printfn \"=== Try setting a max 10 to variable a will be ignored ===\"\n",
    "try\n",
    "    simpleEq\n",
    "    |> solveCountMinExcl \"b\" 0N\n",
    "    |>> solveCountMaxExcl \"b\" 5N\n",
    "    |>> solveCountMaxExcl \"b\" 10N\n",
    "    |> printEqs |> ignore\n",
    "with\n",
    "| e -> printfn \"%A\" e\n",
    "\n",
    "printfn \"=== But setting a max 3 to variable a will succeed ===\"\n",
    "simpleEq\n",
    "|> solveCountMinExcl \"b\" 0N\n",
    "|>> solveCountMaxExcl \"b\" 5N\n",
    "|>> solveCountMaxExcl \"b\" 3N\n",
    "|> printEqs |> ignore"
   ]
  },
  {
   "cell_type": "markdown",
   "metadata": {},
   "source": [
    "### Define product and sum equations\n",
    "\n",
    "We can define product equations like: \n",
    "\n",
    "``a = b * c``\n",
    "\n",
    "and sum equations like:\n",
    "\n",
    "``c = d + e + f``"
   ]
  },
  {
   "cell_type": "code",
   "execution_count": 6,
   "metadata": {
    "dotnet_interactive": {
     "language": "fsharp"
    },
    "polyglot_notebook": {
     "kernelName": "fsharp"
    }
   },
   "outputs": [
    {
     "name": "stdout",
     "output_type": "stream",
     "text": [
      "=== Product Equation ===\n",
      "equations result:\n",
      " \n",
      "0.\ta <..> = b <..> * c <..> \n",
      "----- \n",
      "=== Sum Equation ===\n",
      "equations result:\n",
      " \n",
      "0.\tc <..> = d <..> + e <..> + f <..> \n",
      "----- \n"
     ]
    }
   ],
   "source": [
    "printfn \"=== Product Equation ===\"\n",
    "let prodEq1 = \n",
    "    [\n",
    "        \"a = b * c\"  \n",
    "    ] \n",
    "    |> init\n",
    "// print the equation\n",
    "prodEq1 |> Ok |> printEqs |> ignore\n",
    "\n",
    "printfn \"=== Sum Equation ===\"\n",
    "let sumEq1 = \n",
    "    [\n",
    "        \"c = d + e + f\"  \n",
    "    ] \n",
    "    |> init\n",
    "// print the equation\n",
    "sumEq1 |> Ok |> printEqs |> ignore"
   ]
  },
  {
   "cell_type": "markdown",
   "metadata": {},
   "source": [
    "## Setting variables to single values"
   ]
  },
  {
   "cell_type": "markdown",
   "metadata": {},
   "source": [
    "Variables can be set to a single value, each at a time. This will result in the calculation of dependent variables. This means the solver will look at the defined product equation \n",
    "\n",
    "``a = b * c`` \n",
    "\n",
    "as:\n",
    "\n",
    "- ``a = b * c`` \n",
    "- ``b = a / c`` \n",
    "- ``c = a / b``\n",
    "\n",
    "When both indepent variables in one of the equations above have a value or are in someway limited, the value or limitation is calculated for the dependent variable.\n",
    "\n",
    "A sum equation will be solved like:\n",
    "\n",
    "``c = d + e + f``\n",
    "\n",
    "as:\n",
    "\n",
    "- ``c = d + e + f``\n",
    "- ``d = c - e - f``\n",
    "- ``e = c - d - f``\n",
    "- ``f = c - d - e``"
   ]
  },
  {
   "cell_type": "markdown",
   "metadata": {},
   "source": [
    "For example, we set the variable ``b`` in the product equation to 3."
   ]
  },
  {
   "cell_type": "code",
   "execution_count": 7,
   "metadata": {
    "dotnet_interactive": {
     "language": "fsharp"
    },
    "polyglot_notebook": {
     "kernelName": "fsharp"
    }
   },
   "outputs": [
    {
     "name": "stdout",
     "output_type": "stream",
     "text": [
      "equations result:\n",
      " \n",
      "0.\ta <..> = b [3 x] * c <..> \n",
      "----- \n"
     ]
    }
   ],
   "source": [
    "prodEq1\n",
    "|> solveCountValues \"b\" [|3N|]\n",
    "|> printEqs \n",
    "|> ignore"
   ]
  },
  {
   "cell_type": "markdown",
   "metadata": {},
   "source": [
    "And value 2 to variable ``c``."
   ]
  },
  {
   "cell_type": "code",
   "execution_count": 8,
   "metadata": {
    "dotnet_interactive": {
     "language": "fsharp"
    },
    "polyglot_notebook": {
     "kernelName": "fsharp"
    }
   },
   "outputs": [
    {
     "name": "stdout",
     "output_type": "stream",
     "text": [
      "equations result:\n",
      " \n",
      "0.\ta [6 x] = b [3 x] * c [2 x] \n",
      "----- \n"
     ]
    }
   ],
   "source": [
    "prodEq1\n",
    "|> solveCountValues \"b\" [|3N|]\n",
    "|>> solveCountValues \"c\" [|2N|]\n",
    "|> printEqs \n",
    "|> ignore"
   ]
  },
  {
   "cell_type": "markdown",
   "metadata": {},
   "source": [
    "Or we first set variable ``a`` to 6 and then, for example variable ``c`` to 2."
   ]
  },
  {
   "cell_type": "code",
   "execution_count": 9,
   "metadata": {
    "dotnet_interactive": {
     "language": "fsharp"
    },
    "polyglot_notebook": {
     "kernelName": "fsharp"
    }
   },
   "outputs": [
    {
     "name": "stdout",
     "output_type": "stream",
     "text": [
      "equations result:\n",
      " \n",
      "0.\ta [6 x] = b [3 x] * c [2 x] \n",
      "----- \n"
     ]
    }
   ],
   "source": [
    "prodEq1\n",
    "|> solveCountValues \"a\" [|6N|] \n",
    "|>> solveCountValues \"c\" [|2N|]\n",
    "|> printEqs \n",
    "|> ignore"
   ]
  },
  {
   "cell_type": "markdown",
   "metadata": {},
   "source": [
    "## Setting variables to sets of values"
   ]
  },
  {
   "cell_type": "markdown",
   "metadata": {},
   "source": [
    "Set the variable ``b`` to 1, 2, 3, 6."
   ]
  },
  {
   "cell_type": "code",
   "execution_count": 10,
   "metadata": {
    "dotnet_interactive": {
     "language": "fsharp"
    },
    "polyglot_notebook": {
     "kernelName": "fsharp"
    }
   },
   "outputs": [
    {
     "name": "stdout",
     "output_type": "stream",
     "text": [
      "equations result:\n",
      " \n",
      "0.\ta <..> = b [1;2;3;6 x] * c <..> \n",
      "----- \n"
     ]
    }
   ],
   "source": [
    "prodEq1\n",
    "|> solveCountValues \"b\" [|1N; 2N; 3N; 6N|]\n",
    "|> printEqs \n",
    "|> ignore"
   ]
  },
  {
   "cell_type": "markdown",
   "metadata": {},
   "source": [
    "Set the variable ``c`` to 60, 120, 240, 500, 1000"
   ]
  },
  {
   "cell_type": "code",
   "execution_count": 11,
   "metadata": {
    "dotnet_interactive": {
     "language": "fsharp"
    },
    "polyglot_notebook": {
     "kernelName": "fsharp"
    }
   },
   "outputs": [
    {
     "name": "stdout",
     "output_type": "stream",
     "text": [
      "equations result:\n",
      " \n",
      "0.\ta [60 x..6000 x] = b [1;2;3;6 x] * c [60;120;240;500;1000 x] \n",
      "----- \n"
     ]
    }
   ],
   "source": [
    "prodEq1\n",
    "|> solveCountValues \"b\" [|1N; 2N; 3N; 6N|]\n",
    "|>> solveCountValues \"c\" [|60N; 120N; 240N; 500N; 1000N|]\n",
    "|> printEqs \n",
    "|> ignore"
   ]
  },
  {
   "cell_type": "markdown",
   "metadata": {},
   "source": [
    "Or set variable ``a`` to 60, 120, 180, 240, 360, 480, 500, 720, 1000, 1440, 1500, 2000, 3000, 6000."
   ]
  },
  {
   "cell_type": "code",
   "execution_count": 12,
   "metadata": {
    "dotnet_interactive": {
     "language": "fsharp"
    },
    "polyglot_notebook": {
     "kernelName": "fsharp"
    }
   },
   "outputs": [
    {
     "name": "stdout",
     "output_type": "stream",
     "text": [
      "equations result:\n",
      " \n",
      "0.\ta [60;120;180 x .. 2000;3000;6000 x] = b [1;2;3;6 x] * c [10 x..6000 x] \n",
      "----- \n"
     ]
    }
   ],
   "source": [
    "prodEq1\n",
    "|> solveCountValues \"b\" [|1N; 2N; 3N; 6N|]\n",
    "|>> solveCountValues \"a\" [|60N; 120N; 180N; 240N; 360N; 480N; 500N; 720N; 1000N; 1440N; 1500N; 2000N; 3000N; 6000N|]\n",
    "|> printEqs \n",
    "|> ignore"
   ]
  },
  {
   "cell_type": "markdown",
   "metadata": {},
   "source": [
    "Then set variable ``c`` to 60, 120, 240, 500, 100."
   ]
  },
  {
   "cell_type": "code",
   "execution_count": 13,
   "metadata": {
    "dotnet_interactive": {
     "language": "fsharp"
    },
    "polyglot_notebook": {
     "kernelName": "fsharp"
    }
   },
   "outputs": [
    {
     "name": "stdout",
     "output_type": "stream",
     "text": [
      "equations result:\n",
      " \n",
      "0.\ta [60;120;180 x .. 2000;3000;6000 x] = b [1;2;3;6 x] * c [60;120;240;500;1000 x] \n",
      "----- \n"
     ]
    }
   ],
   "source": [
    "prodEq1\n",
    "|> solveCountValues \"b\" [|1N; 2N; 3N; 6N|]\n",
    "|>> solveCountValues \"a\" [|60N; 120N; 180N; 240N; 360N; 480N; 500N; 720N; 1000N; 1440N; 1500N; 2000N; 3000N; 6000N|]\n",
    "|>> solveCountValues \"c\" [|60N; 120N; 240N; 500N; 1000N|]\n",
    "|> printEqs \n",
    "|> ignore"
   ]
  },
  {
   "cell_type": "markdown",
   "metadata": {},
   "source": [
    "## Setting lower and/or upper limits"
   ]
  },
  {
   "cell_type": "markdown",
   "metadata": {},
   "source": [
    "Setting lower and/or upper limits to variables is a complex proces, as this can result, depending on the calculation operator in the calculation of a resulting lower and/or upper limit. Limits can also be inclusive or exclusive. Thus the following props can be used:\n",
    "\n",
    "- ``MinProp`` with ``Incl`` ``true`` or ``false``\n",
    "- ``MaxProp`` with ``Incl`` ``true`` or ``false``\n",
    "\n",
    "And the following calculations have the performed:\n",
    "\n",
    "Inlc - Incl\n",
    "\n",
    "- ``MinInclProp * MinInclProp``  \n",
    "- ``MinInclProp / MinInclProp``  \n",
    "- ``MaxInclProp * MaxInclProp``  \n",
    "- ``MaxInclProp / MaxInclProp``  \n",
    "\n",
    "- ``MinInclProp * MaxInclProp``  \n",
    "- ``MinInclProp / MaxInclProp``  \n",
    "- ``MaxInclProp / MinInclProp``  \n",
    "\n",
    "- ``MinInclProp + MinInclProp``  \n",
    "- ``MinInclProp - MinInclProp``  \n",
    "- ``MaxInclProp + MaxInclProp``  \n",
    "- ``MaxInclProp - MaxInclProp``  \n",
    "\n",
    "- ``MinInclProp + MaxInclProp``  \n",
    "- ``MinInclProp - MaxInclProp``  \n",
    "- ``MaxInclProp - MinInclProp``  \n",
    "\n",
    "Excl - Excl\n",
    "\n",
    "- ``MinExclProp * MinExclProp``  \n",
    "- ``MinExclProp / MinExclProp``  \n",
    "- ``MaxExclProp * MaxExclProp``  \n",
    "- ``MaxExclProp / MaxExclProp``  \n",
    "\n",
    "- ``MinExclProp * MaxExclProp``  \n",
    "- ``MinExclProp / MaxExclProp``  \n",
    "- ``MaxExclProp / MinExclProp``  \n",
    "\n",
    "- ``MinExclProp + MinExclProp``  \n",
    "- ``MinExclProp - MinExclProp``  \n",
    "- ``MaxExclProp + MaxExclProp``  \n",
    "- ``MaxExclProp - MaxExclProp``  \n",
    "\n",
    "- ``MinExclProp + MaxExclProp``  \n",
    "- ``MinExclProp - MaxExclProp``  \n",
    "- ``MaxExclProp - MinExclProp``   \n",
    "\n",
    "Incl - Excl\n",
    "\n",
    "- ``MinInclProp * MinExclProp``  \n",
    "- ``MinInclProp / MinExclProp``  \n",
    "- ``MaxInclProp * MaxExclProp``  \n",
    "- ``MaxInclProp / MaxExclProp``  \n",
    "\n",
    "- ``MinInclProp / MaxExclProp``  \n",
    "- ``MaxInclProp / MinExclProp``  \n",
    "\n",
    "- ``MinInclProp - MinExclProp``  \n",
    "- ``MaxInclProp + MaxExclProp``  \n",
    "- ``MaxInclProp - MaxExclProp``  \n",
    "\n",
    "- ``MinInclProp - MaxExclProp``  \n",
    "- ``MaxInclProp - MinExclProp``  \n",
    "\n",
    "Excl - Incl\n",
    "\n",
    "\n",
    "- ``MinExclProp * MinInclProp``  \n",
    "- ``MinExclProp / MinInclProp``  \n",
    "- ``MaxExclProp * MaxInclProp``  \n",
    "- ``MaxExclProp / MaxInclProp``  \n",
    "\n",
    "- ``MinExclProp / MaxInclProp``  \n",
    "- ``MaxExclProp / MinInclProp``  \n",
    "\n",
    "- ``MinExclProp - MinInclProp``  \n",
    "- ``MaxExclProp + MaxInclProp``  \n",
    "- ``MaxExclProp - MaxInclProp``  \n",
    "\n",
    "- ``MinExclProp - MaxInclProp``  \n",
    "- ``MaxExclProp - MinInclProp``   "
   ]
  },
  {
   "cell_type": "markdown",
   "metadata": {},
   "source": [
    "Limit ``b`` with a minimum inclusive of 0."
   ]
  },
  {
   "cell_type": "code",
   "execution_count": 14,
   "metadata": {
    "dotnet_interactive": {
     "language": "fsharp"
    },
    "polyglot_notebook": {
     "kernelName": "fsharp"
    }
   },
   "outputs": [
    {
     "name": "stdout",
     "output_type": "stream",
     "text": [
      "equations result:\n",
      " \n",
      "0.\ta <..> = b <0 x..> * c <..> \n",
      "----- \n"
     ]
    }
   ],
   "source": [
    "prodEq1\n",
    "|> solveCountMinExcl \"b\" 0N\n",
    "|> printEqs \n",
    "|> ignore"
   ]
  },
  {
   "cell_type": "markdown",
   "metadata": {},
   "source": [
    "Limit ``c`` as well to a minimum of inclusive 0"
   ]
  },
  {
   "cell_type": "code",
   "execution_count": 15,
   "metadata": {
    "dotnet_interactive": {
     "language": "fsharp"
    },
    "polyglot_notebook": {
     "kernelName": "fsharp"
    }
   },
   "outputs": [
    {
     "name": "stdout",
     "output_type": "stream",
     "text": [
      "equations result:\n",
      " \n",
      "0.\ta <0 x..> = b <0 x..> * c <0 x..> \n",
      "----- \n"
     ]
    }
   ],
   "source": [
    "prodEq1\n",
    "|> solveCountMinExcl \"b\" 0N\n",
    "|>> solveCountMinExcl \"c\" 0N\n",
    "|> printEqs \n",
    "|> ignore"
   ]
  },
  {
   "cell_type": "markdown",
   "metadata": {},
   "source": [
    "Add a lower exclusive limit of 1 to ``a``."
   ]
  },
  {
   "cell_type": "code",
   "execution_count": 16,
   "metadata": {
    "dotnet_interactive": {
     "language": "fsharp"
    },
    "polyglot_notebook": {
     "kernelName": "fsharp"
    }
   },
   "outputs": [
    {
     "name": "stdout",
     "output_type": "stream",
     "text": [
      "equations result:\n",
      " \n",
      "0.\ta <1 x..> = b <0 x..> * c <0 x..> \n",
      "----- \n"
     ]
    }
   ],
   "source": [
    "let solveCountMinExcl = solveMinExcl Units.Count.times\n",
    "\n",
    "prodEq1\n",
    "|> solveCountMinExcl \"b\" 0N\n",
    "|>> solveCountMinExcl \"c\" 0N\n",
    "|>> solveCountMinExcl \"a\" 1N\n",
    "|> printEqs \n",
    "|> ignore"
   ]
  },
  {
   "cell_type": "markdown",
   "metadata": {},
   "source": [
    "Add an upper limit of exclusive 10 to ``a``."
   ]
  },
  {
   "cell_type": "code",
   "execution_count": 17,
   "metadata": {
    "dotnet_interactive": {
     "language": "fsharp"
    },
    "polyglot_notebook": {
     "kernelName": "fsharp"
    }
   },
   "outputs": [
    {
     "name": "stdout",
     "output_type": "stream",
     "text": [
      "equations result:\n",
      " \n",
      "0.\ta <1 x..10 x> = b <0 x..> * c <0 x..> \n",
      "----- \n"
     ]
    }
   ],
   "source": [
    "prodEq1\n",
    "|> solveCountMinExcl \"b\" 0N\n",
    "|>> solveCountMinExcl \"c\" 0N\n",
    "|>> solveCountMinExcl \"a\" 1N\n",
    "|>> solveCountMaxExcl \"a\" 10N\n",
    "|> printEqs \n",
    "|> ignore"
   ]
  },
  {
   "cell_type": "markdown",
   "metadata": {},
   "source": [
    "Add an exlusive upper limit of 2 to ``c``."
   ]
  },
  {
   "cell_type": "code",
   "execution_count": 18,
   "metadata": {
    "dotnet_interactive": {
     "language": "fsharp"
    },
    "polyglot_notebook": {
     "kernelName": "fsharp"
    }
   },
   "outputs": [
    {
     "name": "stdout",
     "output_type": "stream",
     "text": [
      "equations result:\n",
      " \n",
      "0.\ta <1 x..10 x> = b <1/2 x..> * c <0 x..2 x> \n",
      "----- \n"
     ]
    }
   ],
   "source": [
    "prodEq1\n",
    "|> solveCountMinExcl \"b\" 0N\n",
    "|>> solveCountMinExcl \"c\" 0N\n",
    "|>> solveCountMinExcl \"a\" 1N\n",
    "|>> solveCountMaxExcl \"a\" 10N\n",
    "|>> solveCountMaxExcl \"c\" 2N\n",
    "|> printEqs \n",
    "|> ignore"
   ]
  },
  {
   "cell_type": "markdown",
   "metadata": {},
   "source": [
    "An example of limiting variable ``a`` with an lower and upper limit and setting values to ``b`` and ``c``."
   ]
  },
  {
   "cell_type": "code",
   "execution_count": 19,
   "metadata": {
    "dotnet_interactive": {
     "language": "fsharp"
    },
    "polyglot_notebook": {
     "kernelName": "fsharp"
    }
   },
   "outputs": [
    {
     "name": "stdout",
     "output_type": "stream",
     "text": [
      "=== Example without limits on a ===\n",
      "equations result:\n",
      " \n",
      "0.\ta [60 x..6000 x] = b [1;2;3;6 x] * c [60;120;240;500;1000 x] \n",
      "----- \n",
      "=== Example with limits on a ===\n",
      "equations result:\n",
      " \n",
      "0.\ta [120 x..1000 x] = b [1;2;3;6 x] * c [60;120;240;500;1000 x] \n",
      "----- \n"
     ]
    }
   ],
   "source": [
    "let solveCountMaxIncl = solveMaxIncl Units.Count.times\n",
    "\n",
    "printfn \"=== Example without limits on a ===\"\n",
    "prodEq1\n",
    "|> solveCountValues \"b\" [|1N; 2N; 3N; 6N|]\n",
    "|>> solveCountValues \"c\" [|60N; 120N; 240N; 500N; 1000N|]\n",
    "|> printEqs \n",
    "|> ignore\n",
    "\n",
    "printfn \"=== Example with limits on a ===\"\n",
    "prodEq1\n",
    "|> solveCountMinIncl \"a\" 120N\n",
    "|>> solveCountMaxIncl \"a\" 1000N\n",
    "|>> solveCountValues \"b\" [|1N; 2N; 3N; 6N|]\n",
    "|>> solveCountValues \"c\" [|60N; 120N; 240N; 500N; 1000N|]\n",
    "|> printEqs \n",
    "|> ignore"
   ]
  },
  {
   "cell_type": "markdown",
   "metadata": {},
   "source": [
    "## Solving multiple equations"
   ]
  },
  {
   "cell_type": "markdown",
   "metadata": {},
   "source": [
    "GenSolver can solve sets of equations following the rules and principle described above."
   ]
  },
  {
   "cell_type": "code",
   "execution_count": 20,
   "metadata": {
    "dotnet_interactive": {
     "language": "fsharp"
    },
    "polyglot_notebook": {
     "kernelName": "fsharp"
    }
   },
   "outputs": [
    {
     "name": "stdout",
     "output_type": "stream",
     "text": [
      "equations result:\n",
      " \n",
      "0.\ta <0..> = b <0..> * c <0..> \n",
      "1.\tc <0..> = d <0..> + e <0..> + f <0..> \n",
      "----- \n"
     ]
    }
   ],
   "source": [
    "prodEq1 @ sumEq1\n",
    "|> nonZeroNegative |> Ok\n",
    "|> printEqs\n",
    "|> ignore"
   ]
  },
  {
   "cell_type": "markdown",
   "metadata": {},
   "source": [
    "For each equation an additional variable will be calculated when all but one of the other variables are limited in some way."
   ]
  },
  {
   "cell_type": "code",
   "execution_count": 21,
   "metadata": {
    "dotnet_interactive": {
     "language": "fsharp"
    },
    "polyglot_notebook": {
     "kernelName": "fsharp"
    }
   },
   "outputs": [
    {
     "name": "stdout",
     "output_type": "stream",
     "text": [
      "equations result:\n",
      " \n",
      "0.\ta [8 x] = b [2 x] * c [4 x] \n",
      "1.\tc [4 x] = d <0..> + e <0..> + f <0..> \n",
      "----- \n",
      "equations result:\n",
      " \n",
      "0.\ta [8 x] = b [2 x] * c [4 x] \n",
      "1.\tc [4 x] = d [1 x] + e [1 x] + f [2 x] \n",
      "----- \n"
     ]
    }
   ],
   "source": [
    "prodEq1 @ sumEq1\n",
    "|> nonZeroNegative\n",
    "|> solveCountValues \"c\" [|4N|] \n",
    "|> ignore\n",
    "\n",
    "prodEq1 @ sumEq1\n",
    "|> nonZeroNegative\n",
    "|> solveCountValues \"c\" [|4N|] \n",
    "|>> solveCountValues \"a\" [|8N|]\n",
    "|> printEqs\n",
    "|> ignore\n",
    "\n",
    "\n",
    "prodEq1 @ sumEq1\n",
    "|> nonZeroNegative\n",
    "|> solveCountValues \"c\" [|4N|] \n",
    "|>> solveCountValues \"a\" [|8N|]\n",
    "|>> solveCountValues \"e\" [|1N|]\n",
    "|>> solveCountValues \"f\" [|2N|]\n",
    "|> printEqs\n",
    "|> ignore"
   ]
  },
  {
   "cell_type": "markdown",
   "metadata": {},
   "source": [
    "## Order of limiting/setting variables doesn't matter"
   ]
  },
  {
   "cell_type": "markdown",
   "metadata": {},
   "source": [
    "The order in which variables are set or limited doesn't matter to the end result, as can be shown below."
   ]
  },
  {
   "cell_type": "code",
   "execution_count": 22,
   "metadata": {
    "dotnet_interactive": {
     "language": "fsharp"
    },
    "polyglot_notebook": {
     "kernelName": "fsharp"
    }
   },
   "outputs": [
    {
     "name": "stdout",
     "output_type": "stream",
     "text": [
      "First run\n",
      "equations result:\n",
      " \n",
      "0.\ta [8 x] = b [2 x] * c [4 x] \n",
      "1.\tc [4 x] = d [1 x] + e [1 x] + f [2 x] \n",
      "----- \n",
      "Second run in reversed order\n",
      "equations result:\n",
      " \n",
      "0.\ta [8 x] = b [2 x] * c [4 x] \n",
      "1.\tc [4 x] = d [1 x] + e [1 x] + f [2 x] \n",
      "----- \n"
     ]
    }
   ],
   "source": [
    "printfn \"First run\"\n",
    "prodEq1 @ sumEq1\n",
    "|> nonZeroNegative\n",
    "|> solveCountValues \"c\" [|4N|] \n",
    "|>> solveCountValues \"a\" [|8N|]\n",
    "|>> solveCountValues \"e\" [|1N|]\n",
    "|>> solveCountValues \"f\" [|2N|]\n",
    "|> printEqs\n",
    "|> ignore\n",
    "\n",
    "printfn \"Second run in reversed order\"\n",
    "prodEq1 @ sumEq1\n",
    "|> nonZeroNegative\n",
    "|> solveCountValues \"f\" [|2N|]\n",
    "|>> solveCountValues \"e\" [|1N|]\n",
    "|>> solveCountValues \"a\" [|8N|]\n",
    "|>> solveCountValues \"c\" [|4N|] \n",
    "|> printEqs\n",
    "|> ignore"
   ]
  },
  {
   "cell_type": "markdown",
   "metadata": {},
   "source": [
    "## Real world example"
   ]
  },
  {
   "cell_type": "markdown",
   "metadata": {},
   "source": [
    "Now, a real world example of usage of the GenSolver. The calculation of drug doses. In this example the following variables are used:\n",
    "\n",
    "- ``ParacetamolDoseTotal``: The total dose of paracetamol\n",
    "- ``ParacetamolDoseQuantity``: The dose quantity of paracetamol per administration\n",
    "- ``Frequency``: The administration frequency\n",
    "- ``ParacetamolDoseTotalAdjust``: The total dose of paracetamol adjusted by weight\n",
    "- ``ParacetamolSuppositoryConcentration``: The concentration of paracetamol per suppository\n",
    "- ``SuppositoryDoseQuantity``: The dose quantity of suppository per administration"
   ]
  },
  {
   "cell_type": "code",
   "execution_count": 23,
   "metadata": {
    "dotnet_interactive": {
     "language": "fsharp"
    },
    "polyglot_notebook": {
     "kernelName": "fsharp"
    }
   },
   "outputs": [
    {
     "name": "stdout",
     "output_type": "stream",
     "text": [
      "equations result:\n",
      " \n",
      "0.\tParacetamolDoseQuantity <..> = ParacetamolSuppositoryConcentration <..> * SuppositoryDoseQuantity <..> \n",
      "1.\tParacetamolDoseTotal <..> = ParacetamolDoseQuantity <..> * Frequency <..> \n",
      "2.\tParacetamolDoseTotal <..> = ParacetamolDoseTotalAdjust <..> * Adjust <..> \n",
      "----- \n"
     ]
    }
   ],
   "source": [
    "let pcmEqs =\n",
    "\n",
    "    [\n",
    "        \"ParacetamolDoseTotal = ParacetamolDoseQuantity * Frequency\"\n",
    "        \"ParacetamolDoseTotal = ParacetamolDoseTotalAdjust * Adjust\"\n",
    "        \"ParacetamolDoseQuantity = ParacetamolSuppositoryConcentration * SuppositoryDoseQuantity\"\n",
    "    ]\n",
    "    |> init\n",
    "//    |> nonZeroNegative\n",
    "\n",
    "pcmEqs |> Ok\n",
    "|> printEqs\n",
    "|> ignore"
   ]
  },
  {
   "cell_type": "markdown",
   "metadata": {},
   "source": [
    "In the pharmacy the following suppository concentrations are available: 60, 120, 240, 500 and 1000 mg per suppository."
   ]
  },
  {
   "cell_type": "code",
   "execution_count": 24,
   "metadata": {
    "dotnet_interactive": {
     "language": "fsharp"
    },
    "polyglot_notebook": {
     "kernelName": "fsharp"
    }
   },
   "outputs": [
    {
     "name": "stdout",
     "output_type": "stream",
     "text": [
      "equations result:\n",
      " \n",
      "0.\tParacetamolDoseQuantity <..> = ParacetamolSuppositoryConcentration [60;120;240;500;1 000 mg/supp] * SuppositoryDoseQuantity <..> \n",
      "1.\tParacetamolDoseTotal <..> = ParacetamolDoseQuantity <..> * Frequency <..> \n",
      "2.\tParacetamolDoseTotal <..> = ParacetamolDoseTotalAdjust <..> * Adjust <..> \n",
      "----- \n"
     ]
    }
   ],
   "source": [
    "let mg = Units.Mass.milliGram\n",
    "let supp = Units.General.general \"supp\"\n",
    "let mgPerSupp = (mg, OpPer, supp) |> CombiUnit\n",
    "\n",
    "pcmEqs\n",
    "|> solveValues mgPerSupp \"ParacetamolSuppositoryConcentration\" [60N; 120N; 240N; 500N; 1000N]\n",
    "|> printEqsWithUnits\n",
    "|> ignore"
   ]
  },
  {
   "cell_type": "markdown",
   "metadata": {},
   "source": [
    "Also we cannot break a suppository we always need to give whole supps. So, each dose can just have 1 supp."
   ]
  },
  {
   "cell_type": "code",
   "execution_count": 25,
   "metadata": {
    "dotnet_interactive": {
     "language": "fsharp"
    },
    "polyglot_notebook": {
     "kernelName": "fsharp"
    }
   },
   "outputs": [
    {
     "name": "stdout",
     "output_type": "stream",
     "text": [
      "equations result:\n",
      " \n",
      "0.\tParacetamolDoseQuantity [60 mg..1 000 mg] = ParacetamolSuppositoryConcentration [60;120;240;500;1 000 mg/supp] * SuppositoryDoseQuantity [1 supp] \n",
      "1.\tParacetamolDoseTotal <..> = ParacetamolDoseTotalAdjust <..> * Adjust <..> \n",
      "2.\tParacetamolDoseTotal <..> = ParacetamolDoseQuantity [60 mg..1 000 mg] * Frequency <..> \n",
      "----- \n"
     ]
    }
   ],
   "source": [
    "let times = Units.Count.times\n",
    "\n",
    "pcmEqs\n",
    "|> solveValues mgPerSupp \"ParacetamolSuppositoryConcentration\" [60N; 120N; 240N; 500N; 1000N]\n",
    "|>> solveValues supp \"SuppositoryDoseQuantity\" [1N]\n",
    "|> printEqsWithUnits\n",
    "|> ignore"
   ]
  },
  {
   "cell_type": "markdown",
   "metadata": {},
   "source": [
    "In the drug formulary we can read that the daily adjusted dose of paracetamol should be between 40 mg/kg/day and 90 mg/kg/day"
   ]
  },
  {
   "cell_type": "code",
   "execution_count": 26,
   "metadata": {
    "dotnet_interactive": {
     "language": "fsharp"
    },
    "polyglot_notebook": {
     "kernelName": "fsharp"
    }
   },
   "outputs": [
    {
     "name": "stdout",
     "output_type": "stream",
     "text": [
      "equations result:\n",
      " \n",
      "0.\tParacetamolDoseQuantity [60 mg..1 000 mg] = ParacetamolSuppositoryConcentration [60;120;240;500;1 000 mg/supp] * SuppositoryDoseQuantity [1 supp] \n",
      "1.\tParacetamolDoseTotal <..> = ParacetamolDoseQuantity [60 mg..1 000 mg] * Frequency <..> \n",
      "2.\tParacetamolDoseTotal <..> = ParacetamolDoseTotalAdjust [40 mg/kg/dag..90 mg/kg/dag] * Adjust <..> \n",
      "----- \n"
     ]
    }
   ],
   "source": [
    "let kg = Units.Weight.kiloGram\n",
    "let mgPerKg = CombiUnit(mg, OpPer, kg)\n",
    "let day = Units.Time.day\n",
    "let mgPerKgPerDay = CombiUnit(mgPerKg, OpPer, day)\n",
    "\n",
    "pcmEqs\n",
    "|> solveValues mgPerSupp \"ParacetamolSuppositoryConcentration\" [60N; 120N; 240N; 500N; 1000N]\n",
    "|>> solveValues supp \"SuppositoryDoseQuantity\" [1N]\n",
    "|>> solveMinIncl mgPerKgPerDay \"ParacetamolDoseTotalAdjust\" 40N\n",
    "|>> solveMaxIncl mgPerKgPerDay \"ParacetamolDoseTotalAdjust\" 90N\n",
    "|> printEqsWithUnits\n",
    "|> ignore"
   ]
  },
  {
   "cell_type": "markdown",
   "metadata": {},
   "source": [
    "But we should never give more than 1000 mg each time and 4000 mg total per day."
   ]
  },
  {
   "cell_type": "code",
   "execution_count": 27,
   "metadata": {
    "dotnet_interactive": {
     "language": "fsharp"
    },
    "polyglot_notebook": {
     "kernelName": "fsharp"
    }
   },
   "outputs": [
    {
     "name": "stdout",
     "output_type": "stream",
     "text": [
      "equations result:\n",
      " \n",
      "0.\tParacetamolDoseQuantity [60 mg..1 000 mg] = ParacetamolSuppositoryConcentration [60;120;240;500;1 000 mg/supp] * SuppositoryDoseQuantity [1 supp] \n",
      "1.\tParacetamolDoseTotal <..4 000 mg/dag] = ParacetamolDoseQuantity [60 mg..1 000 mg] * Frequency <..66,7 x/dag] \n",
      "2.\tParacetamolDoseTotal <..4 000 mg/dag] = ParacetamolDoseTotalAdjust [40 mg/kg/dag..90 mg/kg/dag] * Adjust <..100 kg] \n",
      "----- \n"
     ]
    }
   ],
   "source": [
    "let mgPerDay = CombiUnit(mg, OpPer, Units.Time.day)\n",
    "\n",
    "pcmEqs\n",
    "|> solveValues mgPerSupp \"ParacetamolSuppositoryConcentration\" [60N; 120N; 240N; 500N; 1000N]\n",
    "|>> solveValues supp \"SuppositoryDoseQuantity\" [1N]\n",
    "|>> solveMinIncl mgPerKgPerDay \"ParacetamolDoseTotalAdjust\" 40N\n",
    "|>> solveMaxIncl mgPerKgPerDay \"ParacetamolDoseTotalAdjust\" 90N\n",
    "|>> solveMaxIncl mg \"ParacetamolDoseQuantity\" 1000N\n",
    "|>> solveMaxIncl mgPerDay \"ParacetamolDoseTotal\" 4000N\n",
    "|> printEqsWithUnits\n",
    "|> ignore"
   ]
  },
  {
   "cell_type": "markdown",
   "metadata": {},
   "source": [
    "The drug formulary also states that you should give a supp 2, 3, 4 or 6 times a day."
   ]
  },
  {
   "cell_type": "code",
   "execution_count": 28,
   "metadata": {
    "dotnet_interactive": {
     "language": "fsharp"
    },
    "polyglot_notebook": {
     "kernelName": "fsharp"
    }
   },
   "outputs": [
    {
     "name": "stdout",
     "output_type": "stream",
     "text": [
      "equations result:\n",
      " \n",
      "0.\tParacetamolDoseQuantity [60 mg..1 000 mg] = ParacetamolSuppositoryConcentration [60;120;240;500;1 000 mg/supp] * SuppositoryDoseQuantity [1 supp] \n",
      "1.\tParacetamolDoseTotal [120 mg/dag..4 000 mg/dag] = ParacetamolDoseTotalAdjust [40 mg/kg/dag..90 mg/kg/dag] * Adjust [1,33 kg..100 kg] \n",
      "2.\tParacetamolDoseTotal [120 mg/dag..4 000 mg/dag] = ParacetamolDoseQuantity [60 mg..1 000 mg] * Frequency [2;3;4;6 x/dag] \n",
      "----- \n"
     ]
    }
   ],
   "source": [
    "let timesPerDay = CombiUnit(times, OpPer, day)\n",
    "\n",
    "pcmEqs\n",
    "|> solveValues mgPerSupp \"ParacetamolSuppositoryConcentration\" [60N; 120N; 240N; 500N; 1000N]\n",
    "|>> solveValues supp \"SuppositoryDoseQuantity\" [1N]\n",
    "|>> solveMinIncl mgPerKgPerDay \"ParacetamolDoseTotalAdjust\" 40N\n",
    "|>> solveMaxIncl mgPerKgPerDay \"ParacetamolDoseTotalAdjust\" 90N\n",
    "|>> solveMaxIncl mg \"ParacetamolDoseQuantity\" 1000N\n",
    "|>> solveMaxIncl mgPerDay \"ParacetamolDoseTotal\" 4000N\n",
    "|>> solveValues timesPerDay \"Frequency\" [2N; 3N; 4N; 6N]\n",
    "|> printEqsWithUnits\n",
    "|> ignore"
   ]
  },
  {
   "cell_type": "markdown",
   "metadata": {},
   "source": [
    "This tells us that for example patients with weight 4/3 kg about 1.33 kg up to 100 kg can be prescribed within those limits.\n",
    "\n",
    "We can now set the weight of the patient to for example 10 kg."
   ]
  },
  {
   "cell_type": "code",
   "execution_count": 29,
   "metadata": {
    "dotnet_interactive": {
     "language": "fsharp"
    },
    "polyglot_notebook": {
     "kernelName": "fsharp"
    }
   },
   "outputs": [
    {
     "name": "stdout",
     "output_type": "stream",
     "text": [
      "equations result:\n",
      " \n",
      "0.\tParacetamolDoseQuantity [120 mg..240 mg] = ParacetamolSuppositoryConcentration [120;240 mg/supp] * SuppositoryDoseQuantity [1 supp] \n",
      "1.\tParacetamolDoseTotal [400 mg/dag..900 mg/dag] = ParacetamolDoseTotalAdjust [40 mg/kg/dag..90 mg/kg/dag] * Adjust [10 kg] \n",
      "2.\tParacetamolDoseTotal [400 mg/dag..900 mg/dag] = ParacetamolDoseQuantity [120 mg..240 mg] * Frequency [2;3;4;6 x/dag] \n",
      "----- \n"
     ]
    }
   ],
   "source": [
    "pcmEqs\n",
    "|> solveValues mgPerSupp \"ParacetamolSuppositoryConcentration\" [60N; 120N; 240N; 500N; 1000N]\n",
    "|>> solveValues supp \"SuppositoryDoseQuantity\" [1N]\n",
    "|>> solveMinIncl mgPerKgPerDay \"ParacetamolDoseTotalAdjust\" 40N\n",
    "|>> solveMaxIncl mgPerKgPerDay \"ParacetamolDoseTotalAdjust\" 90N\n",
    "|>> solveMaxIncl mg \"ParacetamolDoseQuantity\" 1000N\n",
    "|>> solveMaxIncl mgPerDay \"ParacetamolDoseTotal\" 4000N\n",
    "|>> solveValues timesPerDay \"Frequency\" [2N; 3N; 4N; 6N]\n",
    "|>> solveValues kg \"Adjust\" [10N]\n",
    "|> printEqsWithUnits\n",
    "|> ignore"
   ]
  },
  {
   "cell_type": "markdown",
   "metadata": {},
   "source": [
    "And if we then pick a frequency of 3, there is a solved equation set."
   ]
  },
  {
   "cell_type": "code",
   "execution_count": 30,
   "metadata": {
    "dotnet_interactive": {
     "language": "fsharp"
    },
    "polyglot_notebook": {
     "kernelName": "fsharp"
    }
   },
   "outputs": [
    {
     "name": "stdout",
     "output_type": "stream",
     "text": [
      "equations result:\n",
      " \n",
      "0.\tParacetamolDoseQuantity [240 mg] = ParacetamolSuppositoryConcentration [240 mg/supp] * SuppositoryDoseQuantity [1 supp] \n",
      "1.\tParacetamolDoseTotal [720 mg/dag] = ParacetamolDoseTotalAdjust [72 mg/dag/kg] * Adjust [10 kg] \n",
      "2.\tParacetamolDoseTotal [720 mg/dag] = ParacetamolDoseQuantity [240 mg] * Frequency [3 x/dag] \n",
      "----- \n"
     ]
    }
   ],
   "source": [
    "pcmEqs\n",
    "|> solveValues mgPerSupp \"ParacetamolSuppositoryConcentration\" [60N; 120N; 240N; 500N; 1000N]\n",
    "|>> solveValues supp \"SuppositoryDoseQuantity\" [1N]\n",
    "|>> solveMinIncl mgPerKgPerDay \"ParacetamolDoseTotalAdjust\" 40N\n",
    "|>> solveMaxIncl mgPerKgPerDay \"ParacetamolDoseTotalAdjust\" 90N\n",
    "|>> solveMaxIncl mg \"ParacetamolDoseQuantity\" 1000N\n",
    "|>> solveMaxIncl mgPerDay \"ParacetamolDoseTotal\" 4000N\n",
    "|>> solveValues timesPerDay \"Frequency\" [3N] // picked frequency = 3\n",
    "|>> solveValues kg \"Adjust\" [10N]\n",
    "//|>> solveAll \n",
    "|> printEqsWithUnits\n",
    "|> ignore"
   ]
  }
 ],
 "metadata": {
  "kernelInfo": {
   "defaultKernelName": null,
   "items": [
    {
     "aliases": [
      "c#",
      "cs"
     ],
     "languageName": "C#",
     "name": "csharp"
    },
    {
     "aliases": [
      "f#",
      "fs"
     ],
     "languageName": "F#",
     "name": "fsharp"
    },
    {
     "languageName": "HTML",
     "name": "html"
    },
    {
     "languageName": "HTTP",
     "name": "http"
    },
    {
     "aliases": [
      "js"
     ],
     "languageName": "JavaScript",
     "name": "javascript"
    },
    {
     "languageName": "Mermaid",
     "name": "mermaid"
    },
    {
     "aliases": [
      "powershell"
     ],
     "languageName": "PowerShell",
     "name": "pwsh"
    },
    {
     "name": "value"
    }
   ]
  },
  "kernelspec": {
   "display_name": ".NET (C#)",
   "language": "C#",
   "name": ".net-csharp"
  },
  "language_info": {
   "name": "polyglot-notebook"
  },
  "polyglot_notebook": {
   "kernelInfo": {
    "defaultKernelName": "csharp",
    "items": [
     {
      "aliases": [],
      "name": "csharp"
     },
     {
      "aliases": [
       "f#",
       "fs"
      ],
      "languageName": "F#",
      "name": "fsharp"
     },
     {
      "aliases": [],
      "languageName": "HTML",
      "name": "html"
     },
     {
      "aliases": [],
      "languageName": "HTTP",
      "name": "http"
     },
     {
      "aliases": [
       "js"
      ],
      "languageName": "JavaScript",
      "name": "javascript"
     },
     {
      "aliases": [],
      "languageName": "Mermaid",
      "name": "mermaid"
     },
     {
      "aliases": [
       "powershell"
      ],
      "languageName": "PowerShell",
      "name": "pwsh"
     },
     {
      "aliases": [],
      "name": "value"
     }
    ]
   }
  }
 },
 "nbformat": 4,
 "nbformat_minor": 5
}
